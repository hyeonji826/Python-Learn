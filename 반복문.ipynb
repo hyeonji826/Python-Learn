{
  "nbformat": 4,
  "nbformat_minor": 0,
  "metadata": {
    "colab": {
      "provenance": [],
      "authorship_tag": "ABX9TyPg1dQNraVLmO6aTH71RyBc",
      "include_colab_link": true
    },
    "kernelspec": {
      "name": "python3",
      "display_name": "Python 3"
    },
    "language_info": {
      "name": "python"
    }
  },
  "cells": [
    {
      "cell_type": "markdown",
      "metadata": {
        "id": "view-in-github",
        "colab_type": "text"
      },
      "source": [
        "<a href=\"https://colab.research.google.com/github/hyeonji826/Python-Learn/blob/main/%EB%B0%98%EB%B3%B5%EB%AC%B8.ipynb\" target=\"_parent\"><img src=\"https://colab.research.google.com/assets/colab-badge.svg\" alt=\"Open In Colab\"/></a>"
      ]
    },
    {
      "cell_type": "markdown",
      "source": [
        "## 반복문\n",
        "- while문\n",
        "    - 이터러블 객체(리스트, 튜플, 딕셔너리 등등)이 아닌\n",
        "     단순 횟수 반복을 할 때 주로 사용된다.\n",
        "    - 몇 번을 반복할지 모를 때 사용한다.\n",
        "- for문\n",
        "    - 이터러블 객체의 요소를 하나씩 가져와서 반복적인 작업을 수행할 때 사용한다.\n",
        "\n"
      ],
      "metadata": {
        "id": "tx-FHGqYASut"
      }
    },
    {
      "cell_type": "markdown",
      "source": [
        "## While문"
      ],
      "metadata": {
        "id": "Wqj0u3T8BLX1"
      }
    },
    {
      "cell_type": "code",
      "execution_count": null,
      "metadata": {
        "colab": {
          "base_uri": "https://localhost:8080/"
        },
        "id": "5OCtVheY-i4G",
        "outputId": "598adc8e-217b-45ce-9d01-20824d32dcc3"
      },
      "outputs": [
        {
          "output_type": "stream",
          "name": "stdout",
          "text": [
            "숫자를 입력해주세요(양수):10\n",
            "10\n",
            "8\n",
            "6\n",
            "4\n",
            "2\n",
            "0\n"
          ]
        }
      ],
      "source": [
        "# while문 만들기\n",
        "select = int(input(\"숫자를 입력해주세요(양수):\"))\n",
        "while select >=0:\n",
        "    print(select)\n",
        "    select-=2"
      ]
    },
    {
      "cell_type": "code",
      "source": [
        "# 반복문 안에서 탈출하는 방법\n",
        "# break\n",
        "# while문이나 for문 안에서 사용되는 문법으로,\n",
        "# 코드 실행 중 break를 만나면,\n",
        "# 그 즉시 *가장 가까운 반복문*을 탈출한다.\n",
        "while(True):\n",
        "    input_text=input(\"아무거나 입력하세요:\")\n",
        "    # 입력된 값이 없으면, 탈출\n",
        "    if input_text:\n",
        "        print(input_text)\n",
        "    else:\n",
        "        print(\"반복문을 탈출합니다.\")\n",
        "        break\n",
        "\n"
      ],
      "metadata": {
        "colab": {
          "base_uri": "https://localhost:8080/"
        },
        "id": "AsrrKbRrCpPs",
        "outputId": "57384d2a-6339-4051-850a-7a5e23f2d6cf"
      },
      "execution_count": null,
      "outputs": [
        {
          "output_type": "stream",
          "name": "stdout",
          "text": [
            "아무거나 입력하세요:\n",
            "반복문을 탈출합니다.\n"
          ]
        }
      ]
    },
    {
      "cell_type": "code",
      "source": [
        "# 반복문 안에서 현재 코드 실행을 건너뛰고 다음 반복으로 이동하는 방법\n",
        "# 변수 선언\n",
        "count = 0\n",
        "# 무한 반복\n",
        "while(True):\n",
        "    count += 1\n",
        "    # 반복한 횟수가 짝수이면\n",
        "    if count % 2 == 0:\n",
        "        # 반복횟수 출력\n",
        "        print(count)\n",
        "    else:\n",
        "        # 반복한 횟수가 홀수이면, 다음 반복으로 이동\n",
        "        continue\n",
        "    # while문 전체 탈출 조건문\n",
        "    # 반복횟수가 10 초과이면\n",
        "    if count > 10:\n",
        "        # 반복문 탈출\n",
        "        break\n"
      ],
      "metadata": {
        "colab": {
          "base_uri": "https://localhost:8080/"
        },
        "id": "9n-LDdHIEniB",
        "outputId": "dd897110-0098-452c-f32a-4fa3bd1efe92"
      },
      "execution_count": null,
      "outputs": [
        {
          "output_type": "stream",
          "name": "stdout",
          "text": [
            "2\n",
            "4\n",
            "6\n",
            "8\n",
            "10\n",
            "12\n"
          ]
        }
      ]
    },
    {
      "cell_type": "markdown",
      "source": [
        "## for 문"
      ],
      "metadata": {
        "id": "Ay5Ug4ZeLkA4"
      }
    },
    {
      "cell_type": "code",
      "source": [
        "# for문 만들기\n",
        "# for 임시변수 in 이터러블객체 :\n",
        "for e in [1,2,3,4]:\n",
        "    print(e)\n",
        "    pass"
      ],
      "metadata": {
        "colab": {
          "base_uri": "https://localhost:8080/"
        },
        "id": "CRqydmB4LlbJ",
        "outputId": "42520748-abaf-4409-badb-d60bc6ef1407"
      },
      "execution_count": null,
      "outputs": [
        {
          "output_type": "stream",
          "name": "stdout",
          "text": [
            "1\n",
            "2\n",
            "3\n",
            "4\n"
          ]
        }
      ]
    },
    {
      "cell_type": "code",
      "source": [
        "# 출력 옵션을 변경해서 반복문을 사용해보자.\n",
        "li=[1,4,2,5,7,7]\n",
        "print(\"[\", end=\"\")\n",
        "for e in li:\n",
        "    print(f\"{e}\",end=\",\")\n",
        "print(\"]\", end=\"\")"
      ],
      "metadata": {
        "colab": {
          "base_uri": "https://localhost:8080/"
        },
        "id": "jeYNxxaMMz1E",
        "outputId": "37662de4-7cdc-4975-d0b1-197eed0afb16"
      },
      "execution_count": null,
      "outputs": [
        {
          "output_type": "stream",
          "name": "stdout",
          "text": [
            "[1,4,2,5,7,7,]"
          ]
        }
      ]
    },
    {
      "cell_type": "code",
      "source": [
        "# for문에서 숫자 시퀀스로 요소를 가져오는 방법\n",
        "# range(마지막값+1)\n",
        "# 0부터 전달된 숫자값-1까지의 숫자배열을 반환\n",
        "for e in range(10): #0~9까지의 값을 가져옴\n",
        "    print(e)\n",
        "    pass\n",
        "#print(range(3)) #0부터 3미만까지 정수를 출력"
      ],
      "metadata": {
        "colab": {
          "base_uri": "https://localhost:8080/"
        },
        "id": "6HTDKOajOHE-",
        "outputId": "38e30cca-0608-42a2-b0b5-11080e23f219"
      },
      "execution_count": null,
      "outputs": [
        {
          "output_type": "stream",
          "name": "stdout",
          "text": [
            "0\n",
            "1\n",
            "2\n",
            "3\n",
            "4\n",
            "5\n",
            "6\n",
            "7\n",
            "8\n",
            "9\n"
          ]
        }
      ]
    },
    {
      "cell_type": "code",
      "source": [
        "# range 함수에 두 개의 값(start,end)을 던져주는 방법\n",
        "# start부터 end-1까지의 값을 생성해주는 함수이다.\n",
        "for e in range(1,10):\n",
        "    print(e)"
      ],
      "metadata": {
        "colab": {
          "base_uri": "https://localhost:8080/"
        },
        "id": "o9A05ndiPC8s",
        "outputId": "42058cd4-9ba2-45a4-84ad-56d4245d8583"
      },
      "execution_count": null,
      "outputs": [
        {
          "output_type": "stream",
          "name": "stdout",
          "text": [
            "1\n",
            "2\n",
            "3\n",
            "4\n",
            "5\n",
            "6\n",
            "7\n",
            "8\n",
            "9\n"
          ]
        }
      ]
    },
    {
      "cell_type": "code",
      "source": [
        "for e in range(1,10,2): # 1부터 10-1까지 숫자를 반복하는데,\n",
        "                        # 2씩 증가하는 등차수열\n",
        "    print(e)"
      ],
      "metadata": {
        "colab": {
          "base_uri": "https://localhost:8080/"
        },
        "id": "GD8WXW-vPlWK",
        "outputId": "ee2c7b02-31c2-40eb-cc40-49df738274ac"
      },
      "execution_count": null,
      "outputs": [
        {
          "output_type": "stream",
          "name": "stdout",
          "text": [
            "1\n",
            "3\n",
            "5\n",
            "7\n",
            "9\n"
          ]
        }
      ]
    },
    {
      "cell_type": "code",
      "source": [
        "li2=list(range(1,10))\n",
        "\n",
        "print(li2[5])"
      ],
      "metadata": {
        "colab": {
          "base_uri": "https://localhost:8080/"
        },
        "id": "Cw3PkKIsP8Al",
        "outputId": "ee1abb39-7544-4fa7-a85d-f76f90c1c32a"
      },
      "execution_count": null,
      "outputs": [
        {
          "output_type": "stream",
          "name": "stdout",
          "text": [
            "6\n"
          ]
        }
      ]
    },
    {
      "cell_type": "markdown",
      "source": [
        "## 반복문 - day04 추가\n",
        "- 중첩 반복문"
      ],
      "metadata": {
        "id": "_JllFSRjWcRk"
      }
    },
    {
      "cell_type": "code",
      "source": [
        "# 중첩 반복문\n",
        "# 반복문 안에 반복문이 있는 형태를 이르는 말\n",
        "# 이중 반복문으로 시계(시,분)를 만들어보자.\n",
        "for hour in range(12):\n",
        "    for min in range(20):\n",
        "        print(f\"hour:{hour:02d}\\tmin:{min:02d}\")     # \\t = tab"
      ],
      "metadata": {
        "colab": {
          "base_uri": "https://localhost:8080/"
        },
        "collapsed": true,
        "id": "gc9T3GjaWiph",
        "outputId": "9bc98cc3-cc68-4e3b-dd49-ac213d8bc821"
      },
      "execution_count": null,
      "outputs": [
        {
          "output_type": "stream",
          "name": "stdout",
          "text": [
            "hour:00\tmin:00\n",
            "hour:00\tmin:01\n",
            "hour:00\tmin:02\n",
            "hour:00\tmin:03\n",
            "hour:00\tmin:04\n",
            "hour:00\tmin:05\n",
            "hour:00\tmin:06\n",
            "hour:00\tmin:07\n",
            "hour:00\tmin:08\n",
            "hour:00\tmin:09\n",
            "hour:00\tmin:10\n",
            "hour:00\tmin:11\n",
            "hour:00\tmin:12\n",
            "hour:00\tmin:13\n",
            "hour:00\tmin:14\n",
            "hour:00\tmin:15\n",
            "hour:00\tmin:16\n",
            "hour:00\tmin:17\n",
            "hour:00\tmin:18\n",
            "hour:00\tmin:19\n",
            "hour:01\tmin:00\n",
            "hour:01\tmin:01\n",
            "hour:01\tmin:02\n",
            "hour:01\tmin:03\n",
            "hour:01\tmin:04\n",
            "hour:01\tmin:05\n",
            "hour:01\tmin:06\n",
            "hour:01\tmin:07\n",
            "hour:01\tmin:08\n",
            "hour:01\tmin:09\n",
            "hour:01\tmin:10\n",
            "hour:01\tmin:11\n",
            "hour:01\tmin:12\n",
            "hour:01\tmin:13\n",
            "hour:01\tmin:14\n",
            "hour:01\tmin:15\n",
            "hour:01\tmin:16\n",
            "hour:01\tmin:17\n",
            "hour:01\tmin:18\n",
            "hour:01\tmin:19\n",
            "hour:02\tmin:00\n",
            "hour:02\tmin:01\n",
            "hour:02\tmin:02\n",
            "hour:02\tmin:03\n",
            "hour:02\tmin:04\n",
            "hour:02\tmin:05\n",
            "hour:02\tmin:06\n",
            "hour:02\tmin:07\n",
            "hour:02\tmin:08\n",
            "hour:02\tmin:09\n",
            "hour:02\tmin:10\n",
            "hour:02\tmin:11\n",
            "hour:02\tmin:12\n",
            "hour:02\tmin:13\n",
            "hour:02\tmin:14\n",
            "hour:02\tmin:15\n",
            "hour:02\tmin:16\n",
            "hour:02\tmin:17\n",
            "hour:02\tmin:18\n",
            "hour:02\tmin:19\n",
            "hour:03\tmin:00\n",
            "hour:03\tmin:01\n",
            "hour:03\tmin:02\n",
            "hour:03\tmin:03\n",
            "hour:03\tmin:04\n",
            "hour:03\tmin:05\n",
            "hour:03\tmin:06\n",
            "hour:03\tmin:07\n",
            "hour:03\tmin:08\n",
            "hour:03\tmin:09\n",
            "hour:03\tmin:10\n",
            "hour:03\tmin:11\n",
            "hour:03\tmin:12\n",
            "hour:03\tmin:13\n",
            "hour:03\tmin:14\n",
            "hour:03\tmin:15\n",
            "hour:03\tmin:16\n",
            "hour:03\tmin:17\n",
            "hour:03\tmin:18\n",
            "hour:03\tmin:19\n",
            "hour:04\tmin:00\n",
            "hour:04\tmin:01\n",
            "hour:04\tmin:02\n",
            "hour:04\tmin:03\n",
            "hour:04\tmin:04\n",
            "hour:04\tmin:05\n",
            "hour:04\tmin:06\n",
            "hour:04\tmin:07\n",
            "hour:04\tmin:08\n",
            "hour:04\tmin:09\n",
            "hour:04\tmin:10\n",
            "hour:04\tmin:11\n",
            "hour:04\tmin:12\n",
            "hour:04\tmin:13\n",
            "hour:04\tmin:14\n",
            "hour:04\tmin:15\n",
            "hour:04\tmin:16\n",
            "hour:04\tmin:17\n",
            "hour:04\tmin:18\n",
            "hour:04\tmin:19\n",
            "hour:05\tmin:00\n",
            "hour:05\tmin:01\n",
            "hour:05\tmin:02\n",
            "hour:05\tmin:03\n",
            "hour:05\tmin:04\n",
            "hour:05\tmin:05\n",
            "hour:05\tmin:06\n",
            "hour:05\tmin:07\n",
            "hour:05\tmin:08\n",
            "hour:05\tmin:09\n",
            "hour:05\tmin:10\n",
            "hour:05\tmin:11\n",
            "hour:05\tmin:12\n",
            "hour:05\tmin:13\n",
            "hour:05\tmin:14\n",
            "hour:05\tmin:15\n",
            "hour:05\tmin:16\n",
            "hour:05\tmin:17\n",
            "hour:05\tmin:18\n",
            "hour:05\tmin:19\n",
            "hour:06\tmin:00\n",
            "hour:06\tmin:01\n",
            "hour:06\tmin:02\n",
            "hour:06\tmin:03\n",
            "hour:06\tmin:04\n",
            "hour:06\tmin:05\n",
            "hour:06\tmin:06\n",
            "hour:06\tmin:07\n",
            "hour:06\tmin:08\n",
            "hour:06\tmin:09\n",
            "hour:06\tmin:10\n",
            "hour:06\tmin:11\n",
            "hour:06\tmin:12\n",
            "hour:06\tmin:13\n",
            "hour:06\tmin:14\n",
            "hour:06\tmin:15\n",
            "hour:06\tmin:16\n",
            "hour:06\tmin:17\n",
            "hour:06\tmin:18\n",
            "hour:06\tmin:19\n",
            "hour:07\tmin:00\n",
            "hour:07\tmin:01\n",
            "hour:07\tmin:02\n",
            "hour:07\tmin:03\n",
            "hour:07\tmin:04\n",
            "hour:07\tmin:05\n",
            "hour:07\tmin:06\n",
            "hour:07\tmin:07\n",
            "hour:07\tmin:08\n",
            "hour:07\tmin:09\n",
            "hour:07\tmin:10\n",
            "hour:07\tmin:11\n",
            "hour:07\tmin:12\n",
            "hour:07\tmin:13\n",
            "hour:07\tmin:14\n",
            "hour:07\tmin:15\n",
            "hour:07\tmin:16\n",
            "hour:07\tmin:17\n",
            "hour:07\tmin:18\n",
            "hour:07\tmin:19\n",
            "hour:08\tmin:00\n",
            "hour:08\tmin:01\n",
            "hour:08\tmin:02\n",
            "hour:08\tmin:03\n",
            "hour:08\tmin:04\n",
            "hour:08\tmin:05\n",
            "hour:08\tmin:06\n",
            "hour:08\tmin:07\n",
            "hour:08\tmin:08\n",
            "hour:08\tmin:09\n",
            "hour:08\tmin:10\n",
            "hour:08\tmin:11\n",
            "hour:08\tmin:12\n",
            "hour:08\tmin:13\n",
            "hour:08\tmin:14\n",
            "hour:08\tmin:15\n",
            "hour:08\tmin:16\n",
            "hour:08\tmin:17\n",
            "hour:08\tmin:18\n",
            "hour:08\tmin:19\n",
            "hour:09\tmin:00\n",
            "hour:09\tmin:01\n",
            "hour:09\tmin:02\n",
            "hour:09\tmin:03\n",
            "hour:09\tmin:04\n",
            "hour:09\tmin:05\n",
            "hour:09\tmin:06\n",
            "hour:09\tmin:07\n",
            "hour:09\tmin:08\n",
            "hour:09\tmin:09\n",
            "hour:09\tmin:10\n",
            "hour:09\tmin:11\n",
            "hour:09\tmin:12\n",
            "hour:09\tmin:13\n",
            "hour:09\tmin:14\n",
            "hour:09\tmin:15\n",
            "hour:09\tmin:16\n",
            "hour:09\tmin:17\n",
            "hour:09\tmin:18\n",
            "hour:09\tmin:19\n",
            "hour:10\tmin:00\n",
            "hour:10\tmin:01\n",
            "hour:10\tmin:02\n",
            "hour:10\tmin:03\n",
            "hour:10\tmin:04\n",
            "hour:10\tmin:05\n",
            "hour:10\tmin:06\n",
            "hour:10\tmin:07\n",
            "hour:10\tmin:08\n",
            "hour:10\tmin:09\n",
            "hour:10\tmin:10\n",
            "hour:10\tmin:11\n",
            "hour:10\tmin:12\n",
            "hour:10\tmin:13\n",
            "hour:10\tmin:14\n",
            "hour:10\tmin:15\n",
            "hour:10\tmin:16\n",
            "hour:10\tmin:17\n",
            "hour:10\tmin:18\n",
            "hour:10\tmin:19\n",
            "hour:11\tmin:00\n",
            "hour:11\tmin:01\n",
            "hour:11\tmin:02\n",
            "hour:11\tmin:03\n",
            "hour:11\tmin:04\n",
            "hour:11\tmin:05\n",
            "hour:11\tmin:06\n",
            "hour:11\tmin:07\n",
            "hour:11\tmin:08\n",
            "hour:11\tmin:09\n",
            "hour:11\tmin:10\n",
            "hour:11\tmin:11\n",
            "hour:11\tmin:12\n",
            "hour:11\tmin:13\n",
            "hour:11\tmin:14\n",
            "hour:11\tmin:15\n",
            "hour:11\tmin:16\n",
            "hour:11\tmin:17\n",
            "hour:11\tmin:18\n",
            "hour:11\tmin:19\n"
          ]
        }
      ]
    },
    {
      "cell_type": "markdown",
      "source": [
        "### 이중 반복문 실습\n",
        "- 구구단 만들기\n",
        "```\n",
        "\"2 x 1 = 2\"\n",
        "\"2 x 2 = 4\"\n",
        "...\n",
        "\"9 x 9 = 81\"\n",
        "```\n"
      ],
      "metadata": {
        "id": "CmE5Hb5IY_iC"
      }
    },
    {
      "cell_type": "code",
      "source": [
        "# 외부 반복문\n",
        "# 외부 반복문은 2~9까지\n",
        "# 내부 반복문은 1~9까지 반복된다.\n",
        "\n",
        "for utter in range(2,9+1):\n",
        "    print(f\"=== {utter}단 ===\")\n",
        "    for inner in range(9):\n",
        "        inner += 1\n",
        "        # print(f\"{utter} x {inner} = {utter * inner:02d}\")     # 방법 1\n",
        "        print(utter, \"x\", inner ,\"=\",utter*inner)               # 방법 2"
      ],
      "metadata": {
        "colab": {
          "base_uri": "https://localhost:8080/"
        },
        "collapsed": true,
        "id": "PZ9lvF4mY-fn",
        "outputId": "ad8ba5b6-684f-4568-8713-71719bd6150b"
      },
      "execution_count": null,
      "outputs": [
        {
          "output_type": "stream",
          "name": "stdout",
          "text": [
            "=== 2단 ===\n",
            "2 x 1 = 2\n",
            "2 x 2 = 4\n",
            "2 x 3 = 6\n",
            "2 x 4 = 8\n",
            "2 x 5 = 10\n",
            "2 x 6 = 12\n",
            "2 x 7 = 14\n",
            "2 x 8 = 16\n",
            "2 x 9 = 18\n",
            "=== 3단 ===\n",
            "3 x 1 = 3\n",
            "3 x 2 = 6\n",
            "3 x 3 = 9\n",
            "3 x 4 = 12\n",
            "3 x 5 = 15\n",
            "3 x 6 = 18\n",
            "3 x 7 = 21\n",
            "3 x 8 = 24\n",
            "3 x 9 = 27\n",
            "=== 4단 ===\n",
            "4 x 1 = 4\n",
            "4 x 2 = 8\n",
            "4 x 3 = 12\n",
            "4 x 4 = 16\n",
            "4 x 5 = 20\n",
            "4 x 6 = 24\n",
            "4 x 7 = 28\n",
            "4 x 8 = 32\n",
            "4 x 9 = 36\n",
            "=== 5단 ===\n",
            "5 x 1 = 5\n",
            "5 x 2 = 10\n",
            "5 x 3 = 15\n",
            "5 x 4 = 20\n",
            "5 x 5 = 25\n",
            "5 x 6 = 30\n",
            "5 x 7 = 35\n",
            "5 x 8 = 40\n",
            "5 x 9 = 45\n",
            "=== 6단 ===\n",
            "6 x 1 = 6\n",
            "6 x 2 = 12\n",
            "6 x 3 = 18\n",
            "6 x 4 = 24\n",
            "6 x 5 = 30\n",
            "6 x 6 = 36\n",
            "6 x 7 = 42\n",
            "6 x 8 = 48\n",
            "6 x 9 = 54\n",
            "=== 7단 ===\n",
            "7 x 1 = 7\n",
            "7 x 2 = 14\n",
            "7 x 3 = 21\n",
            "7 x 4 = 28\n",
            "7 x 5 = 35\n",
            "7 x 6 = 42\n",
            "7 x 7 = 49\n",
            "7 x 8 = 56\n",
            "7 x 9 = 63\n",
            "=== 8단 ===\n",
            "8 x 1 = 8\n",
            "8 x 2 = 16\n",
            "8 x 3 = 24\n",
            "8 x 4 = 32\n",
            "8 x 5 = 40\n",
            "8 x 6 = 48\n",
            "8 x 7 = 56\n",
            "8 x 8 = 64\n",
            "8 x 9 = 72\n",
            "=== 9단 ===\n",
            "9 x 1 = 9\n",
            "9 x 2 = 18\n",
            "9 x 3 = 27\n",
            "9 x 4 = 36\n",
            "9 x 5 = 45\n",
            "9 x 6 = 54\n",
            "9 x 7 = 63\n",
            "9 x 8 = 72\n",
            "9 x 9 = 81\n"
          ]
        }
      ]
    },
    {
      "cell_type": "code",
      "source": [],
      "metadata": {
        "id": "E29DPdNgZpkT"
      },
      "execution_count": null,
      "outputs": []
    }
  ]
}