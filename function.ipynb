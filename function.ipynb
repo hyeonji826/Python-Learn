{
  "nbformat": 4,
  "nbformat_minor": 0,
  "metadata": {
    "colab": {
      "provenance": [],
      "authorship_tag": "ABX9TyMjnKylskZTn/k4jJCAyxCQ",
      "include_colab_link": true
    },
    "kernelspec": {
      "name": "python3",
      "display_name": "Python 3"
    },
    "language_info": {
      "name": "python"
    }
  },
  "cells": [
    {
      "cell_type": "markdown",
      "metadata": {
        "id": "view-in-github",
        "colab_type": "text"
      },
      "source": [
        "<a href=\"https://colab.research.google.com/github/hyeonji826/Python-projects/blob/main/function.ipynb\" target=\"_parent\"><img src=\"https://colab.research.google.com/assets/colab-badge.svg\" alt=\"Open In Colab\"/></a>"
      ]
    },
    {
      "cell_type": "code",
      "execution_count": null,
      "metadata": {
        "colab": {
          "base_uri": "https://localhost:8080/"
        },
        "collapsed": true,
        "id": "7bniQ4yOfKeg",
        "outputId": "4ed4f243-dda7-4e12-a91d-bc3b28908afe"
      },
      "outputs": [
        {
          "output_type": "stream",
          "name": "stdout",
          "text": [
            "8\n",
            "True\n",
            "False\n",
            "True\n",
            "False\n"
          ]
        }
      ],
      "source": [
        "# 함수\n",
        "# 외부에서 매개변수에 담을 값을 전달받아\n",
        "# 매개변수로 처리할 로직을 작성해놓은\n",
        "# 추상적인 기능 블록을 의미한다.\n",
        "\n",
        "def add_nums(num1, num2):\n",
        "    return num1+num2\n",
        "\n",
        "print(add_nums(3,5))\n",
        "\n",
        "# 두 개의 숫자와 연산자를 문자열로 입력받아\n",
        "# 문자열 연산자에 따라 결과값을 다르게 return하는 함수 만들기\n",
        "def calculator(num1,num2,oper):\n",
        "    # oper -> \"+\",\"-\",\"*\",\"/\"\n",
        "    answer=0\n",
        "    if oper==\"+\":\n",
        "        answer= num1+num2\n",
        "    elif oper==\"-\":\n",
        "        answer= num1-num2\n",
        "    elif oper==\"*\":\n",
        "        answer= num1*num2\n",
        "    elif oper==\"/\":\n",
        "        answer= num1/num2\n",
        "    return answer\n",
        "\n",
        "print(calculator(3,5,\"+\")==8)\n",
        "print(calculator(3,5,\"-\")==2)\n",
        "print(calculator(3,5,\"*\")==15)\n",
        "print(calculator(3,5,\"/\")==5)"
      ]
    },
    {
      "cell_type": "code",
      "source": [
        "# list com\n",
        "# 리스트 컴프리헨션(list comprehension)\n",
        "# 대괄호에 for문 내용을 한 줄로 압축해서\n",
        "# 그 결과 나오는 값들을 요소로 하는\n",
        "# 새로운 리스트를 만드는 문법\n",
        "\n"
      ],
      "metadata": {
        "id": "FWOLnIYwqezi"
      },
      "execution_count": null,
      "outputs": []
    },
    {
      "cell_type": "code",
      "source": [
        "# 클래스와 매서드\n",
        "#\n",
        "class Person():\n",
        "    #name=\"\"\n",
        "    def __init__(self,name,age=0,gender=None) -> None: #self=주소 , name=객체\n",
        "    # 이름 , 나이 , 성별\n",
        "\n",
        "        self.name_i= \"아무개\"\n",
        "\n",
        "\n",
        "    #def get_name():\n",
        "    #   print(name) #scope 상태\n",
        "\n",
        "if __name__== \"__main__\":\n",
        "    # 객체화\n",
        "    # 클래스라는 개념을 실체화한(구체화한)\n",
        "    # 대상을 만드는 것이다.\n",
        "    # hong = Person(\"honggildong\")\n",
        "    # kim = Person(\"kimC\")\n",
        "    print(hong.name_i)\n",
        "    print(kim.name_i)\n",
        "\n",
        "    #print(hong)\n",
        "    #print(kim)"
      ],
      "metadata": {
        "id": "mWDUiwTe88VU"
      },
      "execution_count": null,
      "outputs": []
    }
  ]
}