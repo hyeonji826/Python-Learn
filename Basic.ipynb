{
  "nbformat": 4,
  "nbformat_minor": 0,
  "metadata": {
    "colab": {
      "provenance": [],
      "authorship_tag": "ABX9TyO/SkBvxAmb7ZhqHklrQ2ax",
      "include_colab_link": true
    },
    "kernelspec": {
      "name": "python3",
      "display_name": "Python 3"
    },
    "language_info": {
      "name": "python"
    }
  },
  "cells": [
    {
      "cell_type": "markdown",
      "metadata": {
        "id": "view-in-github",
        "colab_type": "text"
      },
      "source": [
        "<a href=\"https://colab.research.google.com/github/hyeonji826/Python-projects/blob/main/Basic.ipynb\" target=\"_parent\"><img src=\"https://colab.research.google.com/assets/colab-badge.svg\" alt=\"Open In Colab\"/></a>"
      ]
    },
    {
      "cell_type": "code",
      "execution_count": null,
      "metadata": {
        "id": "ldRw_L5JfZsr",
        "colab": {
          "base_uri": "https://localhost:8080/"
        },
        "outputId": "f47c6dce-45ff-4ff0-f092-8c73664a51f3"
      },
      "outputs": [
        {
          "output_type": "stream",
          "name": "stdout",
          "text": [
            "Hello world!\n"
          ]
        }
      ],
      "source": [
        "print(\"Hello world!\")\n"
      ]
    },
    {
      "cell_type": "markdown",
      "source": [
        "# 파이썬 기초 day01\n",
        "- 코랩 이해하기\n",
        "- 변수\n",
        "- 자료형\n"
      ],
      "metadata": {
        "id": "l3_ZMf5RrRC2"
      }
    },
    {
      "cell_type": "code",
      "source": [
        "# 주석(comment)\n",
        "# ctrl + /\n",
        "# 코드에 대한 설명이나, 개발자끼리 소통하기 위한 내용을 적어넣는 공간이다.\n",
        "# 주석에 적힌 내용은 코드를 실행할 때 무시된다.\n",
        "\n",
        "# - 코드에 대한 설명을 적을 때\n",
        "# - 임시로 코드 실행을 막고자 할 때\n",
        "\n"
      ],
      "metadata": {
        "id": "ZRp2af0Esnii"
      },
      "execution_count": null,
      "outputs": []
    },
    {
      "cell_type": "code",
      "source": [
        "# 코드셀 실행하기\n",
        "# ctrl + Enter -> 현재 코드 셀을 실행만 한다.\n",
        "\n",
        "# Shift + Enter -> 코드셀 실행 후, 아래 셀로 이동한다.\n",
        "# -> 만약 아래에 셀이 없다면, 새로운 코드셀을 만든다.\n"
      ],
      "metadata": {
        "id": "K450g1ZqsRpx"
      },
      "execution_count": null,
      "outputs": []
    },
    {
      "cell_type": "markdown",
      "source": [
        "## 1. 변수의 선언과 사용\n",
        "- 개념\n",
        "    - 값들을 이름만으로 부르고 사용하기 위해\n",
        "    사용하는 저장공간\n",
        "    - 값을 저장하기 위해 사용하는 저장공간\n",
        "- 왜?\n",
        "    - 반복되는 값을 항상 같은 이름으로 사용하고 싶기 때문에\n",
        "    - 변하는 값을 같은 이름으로 사용하고 싶기 때문에\n",
        "    - 특정 값에 의미를 부여하여 하나의 정보(information) 로 만들기 위해\n",
        "- 선언\n",
        "    - 변수를 저장할 저장공간을 할당(allocate)하는 행위\n",
        "   - 할당하는 방법 :\n",
        "    ```\n",
        "    num = 3\n",
        "    ```\n",
        "    - \" num이라는 `변수`에 `3` 이라는 값을 저장했다. \"\n",
        "- 사용\n",
        "    - 변수명을 쓴다. 그러면 변수에 담겨 있던 값으로 치환된다.\n",
        "    - 단, `=` 왼쪽에 있는 변수는 저장공간으로써 사용된 것이기 때문에, 값이 아니라 저장공간이다!\n",
        "\n",
        "\n"
      ],
      "metadata": {
        "id": "DOzHh6JStGTc"
      }
    },
    {
      "cell_type": "code",
      "source": [
        "# 변수를 이용해서 Hello world를 출력해보자\n",
        "text = \"Hello, world\"\n",
        "print(text)"
      ],
      "metadata": {
        "colab": {
          "base_uri": "https://localhost:8080/"
        },
        "id": "GnD9Pa_KtEWN",
        "outputId": "b79340aa-eb8b-4508-ef2e-e5589f468328"
      },
      "execution_count": null,
      "outputs": [
        {
          "output_type": "stream",
          "name": "stdout",
          "text": [
            "Hello, world\n"
          ]
        }
      ]
    },
    {
      "cell_type": "code",
      "source": [
        "# 변수에 값을 할당하는 행위는\n",
        "# 저장공간에 담긴 값을 덮어쓰기 해서 저장하는 행위다.\n",
        "text = \"Hello\"\n",
        "print(text)\n",
        "text = \"안녕\"\n",
        "print(text)\n"
      ],
      "metadata": {
        "colab": {
          "base_uri": "https://localhost:8080/"
        },
        "id": "HrXOP7pT1Teb",
        "outputId": "71493e06-ef6b-4ba0-ff13-d03f446c10c1"
      },
      "execution_count": null,
      "outputs": [
        {
          "output_type": "stream",
          "name": "stdout",
          "text": [
            "Hello\n",
            "안녕\n"
          ]
        }
      ]
    },
    {
      "cell_type": "markdown",
      "source": [
        "## 2. 자료형\n",
        "### 자료형의 종류\n",
        "- 문자형\n",
        "    - string(스트링), 문자열 등으로 부르며,\n",
        "    해당하는 값은 텍스트 문자열이다.\n",
        "    - 문자열 값을 만드려면, 작은 따옴표(') 혹은 큰따옴표(\") 한 쌍으로 감싸야 한다.\n",
        "    ```\n",
        "    string = \"문자열입니다. 123\"\n",
        "    ```\n",
        "- 숫자형\n",
        "    - 정수와 실수, 허수 등이 해당된다.\n",
        "    - 정수는 int, 실수는 float로 부르기도 한다.\n",
        "- 논리형\n",
        "    - 참과 거짓이라는, 명제에서 사용되는 값을 나타내며, 단 두 가지 값만 존재한다.\n",
        "    - True, False\n"
      ],
      "metadata": {
        "id": "okhHSue71-0y"
      }
    },
    {
      "cell_type": "code",
      "source": [
        "# 숫자형\n",
        "num1 = 30\n",
        "# print(num1)\n",
        "\n",
        "# 실수\n",
        "flaot_value = 3.141592\n",
        "# print(flaot_value)\n",
        "\n",
        "# 문자형\n",
        "str_value =\"365\"\n",
        "print(str_value)\n",
        "\n",
        "# 논리형(bool)\n",
        "bool_value = True\n",
        "print(bool_value)\n",
        "\n"
      ],
      "metadata": {
        "colab": {
          "base_uri": "https://localhost:8080/"
        },
        "id": "BvRyv7OU18dA",
        "outputId": "2ea3b6f6-ac37-4ef3-b3ac-cbec3dc3c2cf"
      },
      "execution_count": null,
      "outputs": [
        {
          "output_type": "stream",
          "name": "stdout",
          "text": [
            "365\n",
            "True\n"
          ]
        }
      ]
    }
  ]
}