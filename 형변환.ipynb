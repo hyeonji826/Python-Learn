{
  "nbformat": 4,
  "nbformat_minor": 0,
  "metadata": {
    "colab": {
      "provenance": [],
      "authorship_tag": "ABX9TyMdVoYbaeYw/JLNjkTUv7J9",
      "include_colab_link": true
    },
    "kernelspec": {
      "name": "python3",
      "display_name": "Python 3"
    },
    "language_info": {
      "name": "python"
    }
  },
  "cells": [
    {
      "cell_type": "markdown",
      "metadata": {
        "id": "view-in-github",
        "colab_type": "text"
      },
      "source": [
        "<a href=\"https://colab.research.google.com/github/hyeonji826/Python-Learn/blob/main/%ED%98%95%EB%B3%80%ED%99%98.ipynb\" target=\"_parent\"><img src=\"https://colab.research.google.com/assets/colab-badge.svg\" alt=\"Open In Colab\"/></a>"
      ]
    },
    {
      "cell_type": "markdown",
      "source": [
        "# 형변환"
      ],
      "metadata": {
        "id": "DqEF8bhE26zO"
      }
    },
    {
      "cell_type": "code",
      "execution_count": null,
      "metadata": {
        "colab": {
          "base_uri": "https://localhost:8080/"
        },
        "id": "2SF2Z8Bx23gl",
        "outputId": "bc6a11c5-5422-40cf-8df7-8657529742ed"
      },
      "outputs": [
        {
          "output_type": "stream",
          "name": "stdout",
          "text": [
            "3.14\n",
            "3\n"
          ]
        }
      ],
      "source": [
        "# 정수형으로의 형변환\n",
        "input_text =input()\n",
        "float_text = float(input_text)\n",
        "int_text = int(float_text)\n",
        "# 30-> 30 -> ok :int()\n",
        "# 3.14 -> error -> float() -> int()\n",
        "print(int_text)"
      ]
    },
    {
      "cell_type": "code",
      "source": [
        "# float(실수형)로의 형변환\n",
        "input_text =input()\n",
        "float_text = float(input_text)\n",
        "print(float_text)"
      ],
      "metadata": {
        "colab": {
          "base_uri": "https://localhost:8080/"
        },
        "id": "i-VxIzHp4Amy",
        "outputId": "a51bd3b0-def3-4efe-9fa0-5b8f5321c91e"
      },
      "execution_count": null,
      "outputs": [
        {
          "output_type": "stream",
          "name": "stdout",
          "text": [
            "3.0\n",
            "3.0\n"
          ]
        }
      ]
    },
    {
      "cell_type": "code",
      "source": [
        "# 문자열로의 형변환\n",
        "str_text = str(30)\n",
        "#str_text2 =f\"{str_text}000\"\n",
        "print(str_text)\n",
        "#print(int(str_text))"
      ],
      "metadata": {
        "colab": {
          "base_uri": "https://localhost:8080/"
        },
        "id": "sGd9oKdm4vhL",
        "outputId": "6474378e-f644-43be-f3e6-dfad5a61e3f5"
      },
      "execution_count": null,
      "outputs": [
        {
          "output_type": "stream",
          "name": "stdout",
          "text": [
            "30\n"
          ]
        }
      ]
    },
    {
      "cell_type": "markdown",
      "source": [
        "## 입력문 연습하기"
      ],
      "metadata": {
        "id": "P9OXlCqs57fN"
      }
    },
    {
      "cell_type": "code",
      "source": [
        "name =input(\"이름을 입력해주세요 :\") or \"홍길동\"\n",
        "print(\"Hello,\",name ,\"님\",sep=\" \",end=\"Wn\")     #end = 줄바꿈문자(=대행문자)\n",
        "print(\"Hello,\",name ,\"님\",sep=\" \",end=\" \")      #＼n : 줄바꿈\n",
        "print(\"Hello,\",name ,\"님\",sep=\" \",end=\"\")       #＼t : tab\n",
        "print(\"Hello,\",name ,\"님\",sep=\" \",end=\"1234\")"
      ],
      "metadata": {
        "colab": {
          "base_uri": "https://localhost:8080/"
        },
        "id": "wKWwOL5r5nNt",
        "outputId": "4802f16d-284a-46d3-b6b5-54f31180d0fc"
      },
      "execution_count": null,
      "outputs": [
        {
          "output_type": "stream",
          "name": "stdout",
          "text": [
            "이름을 입력해주세요 :\n",
            "Hello, 홍길동 님WnHello, 홍길동 님 Hello, 홍길동 님Hello, 홍길동 님1234"
          ]
        }
      ]
    },
    {
      "cell_type": "code",
      "source": [],
      "metadata": {
        "id": "gJYesbSq6lw1"
      },
      "execution_count": null,
      "outputs": []
    }
  ]
}